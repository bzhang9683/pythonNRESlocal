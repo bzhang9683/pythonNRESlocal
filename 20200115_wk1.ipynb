{
 "cells": [
  {
   "cell_type": "markdown",
   "metadata": {},
   "source": [
    "How many seconds are there in 42 minutes 42 seconds?"
   ]
  },
  {
   "cell_type": "code",
   "execution_count": 1,
   "metadata": {},
   "outputs": [
    {
     "name": "stdout",
     "output_type": "stream",
     "text": [
      "There are 2562 seconds.\n"
     ]
    }
   ],
   "source": [
    "print('There are %d seconds.' %(42*60+42))"
   ]
  },
  {
   "cell_type": "markdown",
   "metadata": {},
   "source": [
    "How many miles are there in 10 kilometers?"
   ]
  },
  {
   "cell_type": "code",
   "execution_count": 3,
   "metadata": {},
   "outputs": [
    {
     "name": "stdout",
     "output_type": "stream",
     "text": [
      "There are 6.21 miles.\n"
     ]
    }
   ],
   "source": [
    "print('There are %.2f miles.' %(10/1.61))"
   ]
  },
  {
   "cell_type": "markdown",
   "metadata": {},
   "source": [
    "If you run a 10 kilometer race in 42 minutes 42 seconds, what is your average pace (time per mile in minutes and seconds)? What is your average speed in miles per hours?"
   ]
  },
  {
   "cell_type": "code",
   "execution_count": 5,
   "metadata": {},
   "outputs": [
    {
     "name": "stdout",
     "output_type": "stream",
     "text": [
      "My average pace is 0.0024 mile/sec\n",
      "My average pace is 0.15 mile/min\n",
      "My average pace is 8.73 mile/hour\n"
     ]
    }
   ],
   "source": [
    "print('My average pace is %.4f mile/sec' %(6.21/(42+42*60)))\n",
    "print('My average pace is %.2f mile/min' %(6.21/(42+42/60)))\n",
    "print('My average pace is %.2f mile/hour' %(6.21/((42+42/60)/60)))"
   ]
  },
  {
   "cell_type": "code",
   "execution_count": 11,
   "metadata": {},
   "outputs": [
    {
     "name": "stdout",
     "output_type": "stream",
     "text": [
      "  ______\n",
      " /      \\\n",
      "/        \\\n",
      "|  stop  |\n",
      "\\        /\n",
      " \\      /\n",
      "  ------\n"
     ]
    }
   ],
   "source": [
    "print('  ______')\n",
    "print(' /      \\\\')\n",
    "print('/        \\\\')\n",
    "print('|  stop  |')\n",
    "print('\\\\        /')\n",
    "print(' \\\\      /')\n",
    "print('  ------')"
   ]
  },
  {
   "cell_type": "code",
   "execution_count": null,
   "metadata": {},
   "outputs": [],
   "source": []
  }
 ],
 "metadata": {
  "kernelspec": {
   "display_name": "Python 3",
   "language": "python",
   "name": "python3"
  },
  "language_info": {
   "codemirror_mode": {
    "name": "ipython",
    "version": 3
   },
   "file_extension": ".py",
   "mimetype": "text/x-python",
   "name": "python",
   "nbconvert_exporter": "python",
   "pygments_lexer": "ipython3",
   "version": "3.7.6"
  }
 },
 "nbformat": 4,
 "nbformat_minor": 4
}
