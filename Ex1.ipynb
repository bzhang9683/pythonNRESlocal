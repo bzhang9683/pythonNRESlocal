{
 "cells": [
  {
   "cell_type": "code",
   "execution_count": 3,
   "metadata": {},
   "outputs": [
    {
     "name": "stdout",
     "output_type": "stream",
     "text": [
      "4\n"
     ]
    }
   ],
   "source": [
    "def longest_words(list_words):\n",
    "    lens = len(list_words)\n",
    "    word_lens = 0\n",
    "    for i in range(0,lens):\n",
    "        i_word_lens = len(list_words[i])\n",
    "        if i_word_lens > word_lens:\n",
    "            word_lens = i_word_lens\n",
    "    print(word_lens)\n",
    "\n",
    "if __name__ == '__main__':\n",
    "    test = ['a','ab','abc','abcd']\n",
    "    longest_words(test)"
   ]
  },
  {
   "cell_type": "code",
   "execution_count": 5,
   "metadata": {},
   "outputs": [
    {
     "name": "stdout",
     "output_type": "stream",
     "text": [
      "12\n"
     ]
    }
   ],
   "source": [
    "string = \"Hello world!\"\n",
    "count = 0\n",
    "for i in range(0,len(string)):\n",
    "    if string[i]!='':\n",
    "        count +=1\n",
    "print(count)"
   ]
  },
  {
   "cell_type": "code",
   "execution_count": 22,
   "metadata": {},
   "outputs": [
    {
     "name": "stdout",
     "output_type": "stream",
     "text": [
      "[2, 5, 6, 11]\n",
      "[(2, '1'), (11, '2'), (5, '3'), (6, '4')]\n"
     ]
    }
   ],
   "source": [
    "dicts = {2:'1',11:'2',5:'3',6:'4'}\n",
    "dicts_sorted_keys_ascending=sorted(dicts.keys())\n",
    "dicts_sorted_index_ascending=sorted(dicts.items(),key=lambda x:x[1])\n",
    "\n",
    "print(dicts_sorted_keys_ascending)\n",
    "print(dicts_sorted_index_ascending)"
   ]
  },
  {
   "cell_type": "code",
   "execution_count": 23,
   "metadata": {},
   "outputs": [
    {
     "name": "stdout",
     "output_type": "stream",
     "text": [
      "[11, 6, 5, 2]\n",
      "[(6, '4'), (5, '3'), (11, '2'), (2, '1')]\n"
     ]
    }
   ],
   "source": [
    "dicts = {2:'1',11:'2',5:'3',6:'4'}\n",
    "dicts_sorted_keys_descending=sorted(dicts.keys(),reverse=True)\n",
    "dicts_sorted_index_descending=sorted(dicts.items(),key=lambda x:x[1],reverse=True)\n",
    "\n",
    "print(dicts_sorted_keys_descending)\n",
    "print(dicts_sorted_index_descending)"
   ]
  },
  {
   "cell_type": "code",
   "execution_count": 28,
   "metadata": {},
   "outputs": [
    {
     "name": "stdout",
     "output_type": "stream",
     "text": [
      "dello WorlH\n"
     ]
    }
   ],
   "source": [
    "string = \"Hello World\"\n",
    "new_string = string[len(string)-1]+string[1:-1]+string[0]\n",
    "print(new_string)"
   ]
  },
  {
   "cell_type": "code",
   "execution_count": 34,
   "metadata": {},
   "outputs": [
    {
     "name": "stdout",
     "output_type": "stream",
     "text": [
      "True\n"
     ]
    }
   ],
   "source": [
    "def common_letter(a,b):\n",
    "    x = False\n",
    "    for e1 in a:\n",
    "        for e2 in b:\n",
    "            if e1 == e2:\n",
    "                x = True\n",
    "    print(x)\n",
    "if __name__ == '__main__':\n",
    "    list1 = [1,2,3,4,5,'a']\n",
    "    list2 = ['a','b','c','d','e']\n",
    "    common_letter(list1,list2)"
   ]
  },
  {
   "cell_type": "code",
   "execution_count": 72,
   "metadata": {},
   "outputs": [
    {
     "name": "stdout",
     "output_type": "stream",
     "text": [
      "15\n",
      "1\n",
      "0.09\n",
      "9\n",
      "The number of coins is 25\n",
      "10\n",
      "1\n",
      "The number of coins is 11\n",
      "10\n",
      "The number of coins is 10\n",
      "0\n",
      "1\n",
      "0.0\n",
      "0\n",
      "The number of coins is 1\n",
      "0\n",
      "1\n",
      "1\n",
      "The number of coins is 2\n"
     ]
    }
   ],
   "source": [
    "def num_Coins(value):\n",
    "    coin_1 = int(value)\n",
    "    print(coin_1)\n",
    "    number_01 = round(value - coin_1, 2)\n",
    "    if number_01>=0.25:\n",
    "        coin_2 = int(number_01/0.25)\n",
    "        print(coin_2)\n",
    "        number_02 = round(number_01-coin_2*0.25,2)\n",
    "        print(number_02)\n",
    "        if number_02>=0.1:\n",
    "            coin_3 = int(number_02/0.1)\n",
    "            print(coin_3)\n",
    "            number_03 = round(number_02-coin_3*0.1,2)\n",
    "            coin_4 = int(number_03/0.01)\n",
    "            print(coin_4)\n",
    "            total = coin_1+coin_2+coin_3+coin_4\n",
    "            print('The number of coins is %d'%int(total))\n",
    "        else:\n",
    "            coin_3 = int(number_02/0.01)\n",
    "            print(coin_3)\n",
    "            total = coin_1+coin_2+coin_3\n",
    "            print('The number of coins is %d'%int(total))\n",
    "    elif number_01 !=0:\n",
    "        if number_01>=0.1:\n",
    "            coin_2 = int(number_01/0.1)\n",
    "            print(coin_2)\n",
    "            number_02 = round(number_01-coin_2*0.1,2)\n",
    "            coin_3 = int(number_02/0.01)\n",
    "            print(coin_3)\n",
    "            total = coin_1+coin_2+coin_3\n",
    "            print('The number of coins is %d'%int(total))\n",
    "        else:\n",
    "            coin_2 = int(number_01/0.01)\n",
    "            print(coin_2)\n",
    "            total = coin_1+coin_2\n",
    "            print('The number of coins is %d'%int(total))\n",
    "    else:\n",
    "        print('The number of coins is %d'%int(coin_1))\n",
    "if __name__ == '__main__':\n",
    "    price1 = 15.34\n",
    "    price2 = 10.01\n",
    "    price3 = 10.00\n",
    "    price4 = 0.25\n",
    "    price5 = 0.11\n",
    "    num_Coins(price1)\n",
    "    num_Coins(price2)\n",
    "    num_Coins(price3)\n",
    "    num_Coins(price4)\n",
    "    num_Coins(price5)"
   ]
  },
  {
   "cell_type": "code",
   "execution_count": null,
   "metadata": {},
   "outputs": [],
   "source": []
  }
 ],
 "metadata": {
  "kernelspec": {
   "display_name": "Python 3.7.6 64-bit ('test': conda)",
   "language": "python",
   "name": "python37664bittestcondad5831348574a4393978e7becb51b70ad"
  },
  "language_info": {
   "codemirror_mode": {
    "name": "ipython",
    "version": 3
   },
   "file_extension": ".py",
   "mimetype": "text/x-python",
   "name": "python",
   "nbconvert_exporter": "python",
   "pygments_lexer": "ipython3",
   "version": "3.7.6"
  }
 },
 "nbformat": 4,
 "nbformat_minor": 4
}
