{
 "cells": [
  {
   "cell_type": "code",
   "execution_count": 1,
   "metadata": {},
   "outputs": [
    {
     "name": "stdout",
     "output_type": "stream",
     "text": [
      "0\n",
      "1\n",
      "2\n",
      "4\n",
      "5\n"
     ]
    }
   ],
   "source": [
    "for i in range(0,6):\n",
    "    if i != 6 and i != 3:\n",
    "        print(i)\n",
    "    else:\n",
    "        continue"
   ]
  },
  {
   "cell_type": "code",
   "execution_count": 2,
   "metadata": {},
   "outputs": [
    {
     "name": "stdout",
     "output_type": "stream",
     "text": [
      "Hint: At least 1 letter between [a-z] and 1 letter between [A-Z]\n",
      "At least 1 number between [0-1]\n",
      "At least 1 character from [$ # @]\n",
      "Minimum length 6 characters\n",
      "Maximum length 16 characters\n"
     ]
    },
    {
     "name": "stdin",
     "output_type": "stream",
     "text": [
      "Please set up a Password: ·············\n"
     ]
    },
    {
     "name": "stdout",
     "output_type": "stream",
     "text": [
      "This password is good to use!\n"
     ]
    }
   ],
   "source": [
    "from getpass import getpass\n",
    "\n",
    "print(\"Hint: At least 1 letter between [a-z] and 1 letter between [A-Z]\\n\"\n",
    "        \"At least 1 number between [0-1]\\n\"\n",
    "        \"At least 1 character from [$ # @]\\n\"\n",
    "        \"Minimum length 6 characters\\n\"\n",
    "        \"Maximum length 16 characters\")\n",
    "password = getpass(\"Please set up a Password:\")\n",
    "\n",
    "num = [\"{:01d}\".format(x) for x in range(0,10)]\n",
    "\n",
    "l_letter = []\n",
    "u_letter = []\n",
    "alpha = 'a'\n",
    "for i in range(0, 26): \n",
    "    l_letter.append(alpha) \n",
    "    alpha = chr(ord(alpha) + 1)\n",
    "Alpha = 'A'\n",
    "for i in range(0, 26): \n",
    "    u_letter.append(Alpha) \n",
    "    Alpha = chr(ord(Alpha) + 1)\n",
    "\n",
    "if len(password) < 6:\n",
    "    print('Please choose another password!')\n",
    "    print('Minimum length 6 characters')\n",
    "elif len(password)>16:\n",
    "    print('Please choose another password!')\n",
    "    print('Maximum length 16 characters')\n",
    "elif '$' not in password and '#' not in password and '@' not in password:\n",
    "    print('Please choose another password!')\n",
    "    print('At least 1 character from $,#,@')\n",
    "elif not any(i in password for i in num ):\n",
    "    print('Please choose another password!')\n",
    "    print('At least 1 number between [0-1]')\n",
    "elif not any(i in password for i in l_letter):\n",
    "    print('Please choose another password!')\n",
    "    print('At least 1 number between [a-z]')\n",
    "elif not any(i in password for i in u_letter ):\n",
    "    print('Please choose another password!')\n",
    "    print('At least 1 number between [A-Z]')  \n",
    "else:\n",
    "    print('This password is good to use!')\n"
   ]
  },
  {
   "cell_type": "code",
   "execution_count": 15,
   "metadata": {},
   "outputs": [
    {
     "name": "stdout",
     "output_type": "stream",
     "text": [
      "*\n",
      "**\n",
      "***\n",
      "****\n",
      "*****\n",
      "****-\n",
      "***--\n",
      "**---\n",
      "*----\n"
     ]
    }
   ],
   "source": [
    "for i in range(1,6):\n",
    "    str1 = \"\"\n",
    "    s = i*'*'\n",
    "    print(s)\n",
    "for i in range(6,10):\n",
    "    s2 = (10-i)*'*'+(i-5)*'-'\n",
    "    print(s2)\n",
    "        "
   ]
  },
  {
   "cell_type": "code",
   "execution_count": 35,
   "metadata": {},
   "outputs": [
    {
     "name": "stdout",
     "output_type": "stream",
     "text": [
      "THE SAFEST CAR IS Honda: CRV\n",
      "The safest brand for Pickup is Ford\n",
      "The safest brand for SUV is Honda\n",
      "The safest brand for Sedan is Chevy\n",
      "The total accidents for Pickup is 56\n",
      "The total accidents for SUV is 339\n",
      "The total accidents for Sedan is 165\n",
      "The total accidents for Chevy is 147\n",
      "The total accidents for Ford is 212\n",
      "The total accidents for Honda is 201\n"
     ]
    }
   ],
   "source": [
    "Brand = ['Ford', 'Ford', 'Chevy', 'Chevy', \\\n",
    "         'Honda', 'Ford', 'Honda', 'Honda', 'Ford', 'Chevy']\n",
    "Model = ['F150', 'Escape', 'Charger', 'Charger', \\\n",
    "         'Civic', 'Escape', 'CRV', 'CRV', 'F150', 'Silverado']\n",
    "Type = ['Pickup', 'SUV', 'Sedan', 'Sedan', \\\n",
    "        'Sedan', 'SUV', 'SUV', 'SUV', 'Pickup', 'Pickup']\n",
    "Accidents_each_year = [25, 79, 46, 90, 29, 88, 79, 93, 20, 11]\n",
    "\n",
    "a = 0\n",
    "c = 0\n",
    "d = 0\n",
    "for i in Accidents_each_year:\n",
    "    if i>a:\n",
    "        a = i\n",
    "        c = c+d+1\n",
    "    else:\n",
    "        d += 1\n",
    "print('THE SAFEST CAR IS '+ Brand[c-2] +': '+Model[c-2])\n",
    "#########################################################\n",
    "num_Pickup = []\n",
    "num_SUV = []\n",
    "num_Sedan = []\n",
    "for t in range(len(Type)):\n",
    "    if  Type[t] == 'Pickup':\n",
    "        num_Pickup.append(t)\n",
    "    elif Type[t] == 'SUV':\n",
    "        num_SUV.append(t)\n",
    "    elif Type[t] == 'Sedan':\n",
    "        num_Sedan.append(t)\n",
    "def find_safest_car(a,accidents):\n",
    "    #a will be a list of cars\n",
    "    c = 0\n",
    "    for i in a:\n",
    "        if accidents[i]>c:\n",
    "            c = accidents[i]\n",
    "            n = i\n",
    "    return n\n",
    "\n",
    "safest_pickup = Brand[find_safest_car(num_Pickup,Accidents_each_year)]\n",
    "safest_suv = Brand[find_safest_car(num_SUV,Accidents_each_year)]\n",
    "safest_sedan = Brand[find_safest_car(num_Sedan,Accidents_each_year)]\n",
    "print('The safest brand for Pickup is %s'%safest_pickup)\n",
    "print('The safest brand for SUV is %s'%safest_suv)\n",
    "print('The safest brand for Sedan is %s'%safest_sedan)\n",
    "#########################################################        \n",
    "num_chevy = []\n",
    "num_ford = []\n",
    "num_honda = []\n",
    "\n",
    "def total_accidents(list_):\n",
    "    sum_ = 0\n",
    "    for i in list_:\n",
    "        sum_ += Accidents_each_year[i]\n",
    "    return sum_\n",
    "print('The total accidents for Pickup is %d'%total_accidents(num_Pickup))\n",
    "print('The total accidents for SUV is %d'%total_accidents(num_SUV))\n",
    "print('The total accidents for Sedan is %d'%total_accidents(num_Sedan))\n",
    "for b in range(len(Brand)):\n",
    "    if  Brand[b] == 'Chevy':\n",
    "        num_chevy.append(b)\n",
    "    elif Brand[b] == 'Ford':\n",
    "        num_ford.append(b)\n",
    "    elif Brand[b] == 'Honda':\n",
    "        num_honda.append(b)\n",
    "print('The total accidents for Chevy is %d'%total_accidents(num_chevy))\n",
    "print('The total accidents for Ford is %d'%total_accidents(num_ford))\n",
    "print('The total accidents for Honda is %d'%total_accidents(num_honda))  \n"
   ]
  },
  {
   "cell_type": "code",
   "execution_count": 40,
   "metadata": {},
   "outputs": [
    {
     "name": "stdout",
     "output_type": "stream",
     "text": [
      "The average temperature of cold days is -3.91 degree.\n",
      "The average temperature of slippery days is 0.62 degree.\n",
      "The average temperature of comfortable days is 5.02 degree.\n"
     ]
    }
   ],
   "source": [
    "temperatures = [-5.4, 1.0, -1.3, -4.8, 3.9, 0.1, -4.4, 4.0, -2.2, -3.9, 4.4, -2.5,-4.6, 5.1, 2.1, -2.4, 1.9, -3.3, -4.8, 1.0, -0.8,\\\n",
    "                -2.8, -0.1, -4.7, -5.6, 2.6,-2.7, -4.6, 3.4, -0.4, -0.9, 3.1, 2.4, 1.6, 4.2, 3.5, 2.6, 3.1, 2.2, 1.8, 3.3,1.6, 1.5,\\\n",
    "                4.7, 4.0, 3.6, 4.9, 4.8, 5.3, 5.6, 4.1, 3.7, 7.6,6.9, 5.1, 6.4, 3.8,4.0, 8.6, 4.1, 1.4, 8.9, 3.0, 1.6, 8.5, 4.7, 6.6,\\\n",
    "                8.1, 4.5, 4.8, 11.3, 4.7, 5.2,11.5, 6.2, 2.9, 4.3, 2.8, 2.8, 6.3, 2.6, -0.0, 7.3, 3.4, 4.7, 9.3, 6.4, 5.4, 7.6,5.2]\n",
    "\n",
    "cold = []\n",
    "cold_t = []\n",
    "slippery = []\n",
    "slippery_t = []\n",
    "comfortable = []\n",
    "comfortable_t = []\n",
    "warm = []\n",
    "warm_t = []\n",
    "\n",
    "for t in range(len(temperatures)):\n",
    "    if temperatures[t]<-2:\n",
    "        cold.append(t)\n",
    "        cold_t.append(temperatures[t])\n",
    "    elif temperatures[t]>=-2 and temperatures[t]<=2:\n",
    "        slippery.append(t)\n",
    "        slippery_t.append(temperatures[t])\n",
    "    elif temperatures[t]>2 and temperatures[t]<=15:\n",
    "        comfortable.append(t)\n",
    "        comfortable_t.append(temperatures[t])\n",
    "    elif temperatures[t]>15:\n",
    "        warm.append(t)\n",
    "        warm_t.append(temperatures[t])\n",
    "sum_=0\n",
    "for t in cold_t:\n",
    "    sum_ += t\n",
    "c_days = len(cold)\n",
    "if c_days!=0:\n",
    "    print('The average temperature of cold days is %.2f degree.'%(sum_/c_days))\n",
    "sum_=0\n",
    "for t in slippery_t:\n",
    "    sum_ += t\n",
    "s_days = len(slippery)\n",
    "if s_days!=0:\n",
    "    print('The average temperature of slippery days is %.2f degree.'%(sum_/s_days))\n",
    "sum_=0\n",
    "for t in comfortable_t:\n",
    "    sum_ += t\n",
    "com_days = len(comfortable)\n",
    "if com_days!=0:\n",
    "    print('The average temperature of comfortable days is %.2f degree.'%(sum_/com_days))\n",
    "sum_=0\n",
    "for t in warm_t:\n",
    "    sum_ += t\n",
    "w_days = len(warm)\n",
    "if w_days!=0:\n",
    "    print('The average temperature of cold days is %.2f degree.'%(sum_/w_days))"
   ]
  },
  {
   "cell_type": "code",
   "execution_count": 96,
   "metadata": {},
   "outputs": [
    {
     "name": "stdin",
     "output_type": "stream",
     "text": [
      " bbbbb\n"
     ]
    },
    {
     "name": "stdout",
     "output_type": "stream",
     "text": [
      "b\n",
      "b\n",
      "b\n",
      "1 {'b': 0}\n",
      "b\n",
      "2 {'b': 1}\n",
      "b\n",
      "3 {'b': 2}\n",
      "b\n",
      "4 {'b': 3}\n",
      "The answer is b, with the length of 1.\n"
     ]
    }
   ],
   "source": [
    "string = input()\n",
    "\n",
    "start = maxlen = 0\n",
    "usedChar = {}\n",
    "maxstr = \"\"\n",
    "\n",
    "for i in range(len(string)):\n",
    "    print(string[i])\n",
    "    ## moving window - start would change to next position from the start,\n",
    "    ## once there is a repeating character.\n",
    "    if string[i] in usedChar and start <= usedChar[string[i]]:\n",
    "        start = usedChar[string[i]]+1\n",
    "        print(start,usedChar)\n",
    "    else:\n",
    "        if maxlen < i-start+1:\n",
    "            maxlen = i-start+1\n",
    "            maxstr = string[start:start+maxlen]\n",
    "            print(maxstr)\n",
    "    usedChar[string[i]]=i\n",
    "print('The answer is %s, with the length of %d.'%(maxstr, maxlen))"
   ]
  },
  {
   "cell_type": "code",
   "execution_count": 109,
   "metadata": {},
   "outputs": [
    {
     "name": "stdout",
     "output_type": "stream",
     "text": [
      "-3 1 2\n",
      "-1 0 1\n"
     ]
    }
   ],
   "source": [
    "#sorting\n",
    "nums = [0,-1,2,-3,1]\n",
    "n = len(nums)\n",
    "nums.sort()\n",
    "for i in range(0,n-1):\n",
    "    l = i+1\n",
    "    r = n-1\n",
    "    x = nums[i]\n",
    "    while (l<r):\n",
    "        if (x+nums[l]+nums[r] ==0):\n",
    "            print(x,nums[l],nums[r])\n",
    "            l+=1\n",
    "            r-=1\n",
    "        elif (x+nums[l]+nums[r]<0):\n",
    "            l+=1\n",
    "        else:\n",
    "            r-=1"
   ]
  },
  {
   "cell_type": "code",
   "execution_count": 110,
   "metadata": {},
   "outputs": [
    {
     "name": "stdout",
     "output_type": "stream",
     "text": [
      "-1 0 1\n",
      "-3 2 1\n"
     ]
    }
   ],
   "source": [
    "#hashing\n",
    "found = False\n",
    "arr = [0,-1,2,-3,1]\n",
    "n=len(arr)\n",
    "for i in range(n - 1): \n",
    "    s = set() \n",
    "    for j in range(i + 1, n): \n",
    "        x = -(arr[i] + arr[j]) \n",
    "        if x in s: \n",
    "            print(x, arr[i], arr[j]) \n",
    "            found = True\n",
    "        else: \n",
    "            s.add(arr[j]) \n",
    "if found == False: \n",
    "    print(\"No Triplet Found\") "
   ]
  },
  {
   "cell_type": "code",
   "execution_count": null,
   "metadata": {},
   "outputs": [],
   "source": []
  }
 ],
 "metadata": {
  "kernelspec": {
   "display_name": "Python 3.7.6 64-bit ('test': conda)",
   "language": "python",
   "name": "python37664bittestcondad5831348574a4393978e7becb51b70ad"
  },
  "language_info": {
   "codemirror_mode": {
    "name": "ipython",
    "version": 3
   },
   "file_extension": ".py",
   "mimetype": "text/x-python",
   "name": "python",
   "nbconvert_exporter": "python",
   "pygments_lexer": "ipython3",
   "version": "3.7.6"
  }
 },
 "nbformat": 4,
 "nbformat_minor": 4
}
